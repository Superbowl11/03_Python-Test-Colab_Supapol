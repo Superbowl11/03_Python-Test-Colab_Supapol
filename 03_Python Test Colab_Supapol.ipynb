{
 "cells": [
  {
   "cell_type": "code",
   "execution_count": 1,
   "id": "9b25763d-881e-4e11-9066-c56230c91c18",
   "metadata": {
    "tags": []
   },
   "outputs": [],
   "source": [
    "import pandas as pd\n",
    "\n",
    "file_path = '03 Python test and Dataset.xlsx'\n",
    "pricing_df = pd.read_excel(file_path, sheet_name='pricing_project_dataset')\n",
    "platform_df = pd.read_excel(file_path, sheet_name='platform_number')\n",
    "platform_df.columns = ['grass_region', 'platform_order', 'platform_gmv_usd']"
   ]
  },
  {
   "cell_type": "markdown",
   "id": "b34a00d2-5ed2-4404-9ff5-ffa1542275b3",
   "metadata": {},
   "source": [
    "Question 1"
   ]
  },
  {
   "cell_type": "code",
   "execution_count": 2,
   "id": "3eda3f0a-78da-4f3e-a300-4211bb6e4125",
   "metadata": {
    "tags": []
   },
   "outputs": [
    {
     "data": {
      "text/html": [
       "<div>\n",
       "<style scoped>\n",
       "    .dataframe tbody tr th:only-of-type {\n",
       "        vertical-align: middle;\n",
       "    }\n",
       "\n",
       "    .dataframe tbody tr th {\n",
       "        vertical-align: top;\n",
       "    }\n",
       "\n",
       "    .dataframe thead th {\n",
       "        text-align: right;\n",
       "    }\n",
       "</style>\n",
       "<table border=\"1\" class=\"dataframe\">\n",
       "  <thead>\n",
       "    <tr style=\"text-align: right;\">\n",
       "      <th></th>\n",
       "      <th>grass_region</th>\n",
       "      <th>outlier_count</th>\n",
       "    </tr>\n",
       "  </thead>\n",
       "  <tbody>\n",
       "    <tr>\n",
       "      <th>0</th>\n",
       "      <td>ID</td>\n",
       "      <td>7595</td>\n",
       "    </tr>\n",
       "    <tr>\n",
       "      <th>1</th>\n",
       "      <td>VN</td>\n",
       "      <td>1952</td>\n",
       "    </tr>\n",
       "  </tbody>\n",
       "</table>\n",
       "</div>"
      ],
      "text/plain": [
       "  grass_region  outlier_count\n",
       "0           ID           7595\n",
       "1           VN           1952"
      ]
     },
     "execution_count": 2,
     "metadata": {},
     "output_type": "execute_result"
    }
   ],
   "source": [
    "pricing_df['price_diff'] = pricing_df['competitor_model_price'] - pricing_df['shopee_model_price']\n",
    "Q1 = pricing_df['price_diff'].quantile(0.25)\n",
    "Q3 = pricing_df['price_diff'].quantile(0.75)\n",
    "IQR = Q3 - Q1\n",
    "lower_bound = Q1 - 1.5 * IQR\n",
    "upper_bound = Q3 + 1.5 * IQR\n",
    "outliers_df = pricing_df[\n",
    "    (pricing_df['price_diff'] < lower_bound) | \n",
    "    (pricing_df['price_diff'] > upper_bound)\n",
    "]\n",
    "\n",
    "outlier_counts = outliers_df.groupby('grass_region').size().reset_index(name='outlier_count')\n",
    "outlier_counts = outlier_counts.sort_values('outlier_count', ascending=False)\n",
    "outlier_counts"
   ]
  },
  {
   "cell_type": "code",
   "execution_count": 3,
   "id": "41ceafe9-aba6-433d-87ae-008e8eb8f30b",
   "metadata": {},
   "outputs": [],
   "source": [
    "regional_summary = pricing_df.groupby('grass_region').agg(\n",
    "    total_shopee_order=('shopee_order', 'sum'),\n",
    "    avg_price_diff=('price_diff', 'mean'),\n",
    "    num_items=('shopee_item_id', 'nunique')\n",
    ").reset_index()"
   ]
  },
  {
   "cell_type": "code",
   "execution_count": 4,
   "id": "08ecdeab-1f86-4679-935c-61ee362affbd",
   "metadata": {
    "tags": []
   },
   "outputs": [
    {
     "data": {
      "text/html": [
       "<div>\n",
       "<style scoped>\n",
       "    .dataframe tbody tr th:only-of-type {\n",
       "        vertical-align: middle;\n",
       "    }\n",
       "\n",
       "    .dataframe tbody tr th {\n",
       "        vertical-align: top;\n",
       "    }\n",
       "\n",
       "    .dataframe thead th {\n",
       "        text-align: right;\n",
       "    }\n",
       "</style>\n",
       "<table border=\"1\" class=\"dataframe\">\n",
       "  <thead>\n",
       "    <tr style=\"text-align: right;\">\n",
       "      <th></th>\n",
       "      <th>grass_region</th>\n",
       "      <th>order_coverage_by_item</th>\n",
       "      <th>net_competitiveness_by_item</th>\n",
       "      <th>num_items</th>\n",
       "    </tr>\n",
       "  </thead>\n",
       "  <tbody>\n",
       "    <tr>\n",
       "      <th>0</th>\n",
       "      <td>ID</td>\n",
       "      <td>0.546299</td>\n",
       "      <td>2565.841599</td>\n",
       "      <td>8428</td>\n",
       "    </tr>\n",
       "    <tr>\n",
       "      <th>1</th>\n",
       "      <td>MY</td>\n",
       "      <td>0.623496</td>\n",
       "      <td>0.008971</td>\n",
       "      <td>2118</td>\n",
       "    </tr>\n",
       "    <tr>\n",
       "      <th>2</th>\n",
       "      <td>PH</td>\n",
       "      <td>0.516156</td>\n",
       "      <td>-3.081481</td>\n",
       "      <td>2025</td>\n",
       "    </tr>\n",
       "    <tr>\n",
       "      <th>3</th>\n",
       "      <td>SG</td>\n",
       "      <td>0.417392</td>\n",
       "      <td>-0.738833</td>\n",
       "      <td>2194</td>\n",
       "    </tr>\n",
       "    <tr>\n",
       "      <th>4</th>\n",
       "      <td>TH</td>\n",
       "      <td>0.400668</td>\n",
       "      <td>5.296833</td>\n",
       "      <td>4137</td>\n",
       "    </tr>\n",
       "    <tr>\n",
       "      <th>5</th>\n",
       "      <td>VN</td>\n",
       "      <td>0.516903</td>\n",
       "      <td>-10502.506915</td>\n",
       "      <td>2097</td>\n",
       "    </tr>\n",
       "  </tbody>\n",
       "</table>\n",
       "</div>"
      ],
      "text/plain": [
       "  grass_region  order_coverage_by_item  net_competitiveness_by_item  num_items\n",
       "0           ID                0.546299                  2565.841599       8428\n",
       "1           MY                0.623496                     0.008971       2118\n",
       "2           PH                0.516156                    -3.081481       2025\n",
       "3           SG                0.417392                    -0.738833       2194\n",
       "4           TH                0.400668                     5.296833       4137\n",
       "5           VN                0.516903                -10502.506915       2097"
      ]
     },
     "execution_count": 4,
     "metadata": {},
     "output_type": "execute_result"
    }
   ],
   "source": [
    "merged = pd.merge(regional_summary, platform_df, on='grass_region', how='left')\n",
    "merged['order_coverage_by_item'] = merged['total_shopee_order'] / merged['platform_order']\n",
    "merged['net_competitiveness_by_item'] = merged['avg_price_diff']\n",
    "\n",
    "final_result = merged[['grass_region', 'order_coverage_by_item', 'net_competitiveness_by_item', 'num_items']]\n",
    "final_result"
   ]
  },
  {
   "cell_type": "markdown",
   "id": "45f71098-d149-4d78-9a25-128d125d1035",
   "metadata": {},
   "source": [
    "Question 2"
   ]
  },
  {
   "cell_type": "code",
   "execution_count": 5,
   "id": "dda39670-46f7-4f85-a3f6-a21fd41091ed",
   "metadata": {
    "tags": []
   },
   "outputs": [],
   "source": [
    "df = pricing_df"
   ]
  },
  {
   "cell_type": "code",
   "execution_count": 6,
   "id": "156da411-d864-4609-943b-69becdfe1182",
   "metadata": {
    "tags": []
   },
   "outputs": [
    {
     "data": {
      "text/html": [
       "<div>\n",
       "<style scoped>\n",
       "    .dataframe tbody tr th:only-of-type {\n",
       "        vertical-align: middle;\n",
       "    }\n",
       "\n",
       "    .dataframe tbody tr th {\n",
       "        vertical-align: top;\n",
       "    }\n",
       "\n",
       "    .dataframe thead th {\n",
       "        text-align: right;\n",
       "    }\n",
       "</style>\n",
       "<table border=\"1\" class=\"dataframe\">\n",
       "  <thead>\n",
       "    <tr style=\"text-align: right;\">\n",
       "      <th></th>\n",
       "      <th>shopee_item_id</th>\n",
       "      <th>shopee_model_competitiveness_status</th>\n",
       "    </tr>\n",
       "  </thead>\n",
       "  <tbody>\n",
       "    <tr>\n",
       "      <th>8853</th>\n",
       "      <td>1323167</td>\n",
       "      <td>Shopee &lt; CPT</td>\n",
       "    </tr>\n",
       "    <tr>\n",
       "      <th>10089</th>\n",
       "      <td>1837669</td>\n",
       "      <td>Shopee &lt; CPT</td>\n",
       "    </tr>\n",
       "    <tr>\n",
       "      <th>4807</th>\n",
       "      <td>2650112</td>\n",
       "      <td>Shopee &lt; CPT</td>\n",
       "    </tr>\n",
       "    <tr>\n",
       "      <th>8816</th>\n",
       "      <td>2666411</td>\n",
       "      <td>Shopee &lt; CPT</td>\n",
       "    </tr>\n",
       "    <tr>\n",
       "      <th>19134</th>\n",
       "      <td>2794532</td>\n",
       "      <td>Shopee &lt; CPT</td>\n",
       "    </tr>\n",
       "    <tr>\n",
       "      <th>...</th>\n",
       "      <td>...</td>\n",
       "      <td>...</td>\n",
       "    </tr>\n",
       "    <tr>\n",
       "      <th>16185</th>\n",
       "      <td>9997519744</td>\n",
       "      <td>Shopee &gt; CPT</td>\n",
       "    </tr>\n",
       "    <tr>\n",
       "      <th>18895</th>\n",
       "      <td>9997666673</td>\n",
       "      <td>Shopee &gt; CPT</td>\n",
       "    </tr>\n",
       "    <tr>\n",
       "      <th>4476</th>\n",
       "      <td>9998345075</td>\n",
       "      <td>Shopee &gt; CPT</td>\n",
       "    </tr>\n",
       "    <tr>\n",
       "      <th>17944</th>\n",
       "      <td>9998445880</td>\n",
       "      <td>Shopee &gt; CPT</td>\n",
       "    </tr>\n",
       "    <tr>\n",
       "      <th>13294</th>\n",
       "      <td>9998941910</td>\n",
       "      <td>Shopee &gt; CPT</td>\n",
       "    </tr>\n",
       "  </tbody>\n",
       "</table>\n",
       "<p>20999 rows × 2 columns</p>\n",
       "</div>"
      ],
      "text/plain": [
       "       shopee_item_id shopee_model_competitiveness_status\n",
       "8853          1323167                        Shopee < CPT\n",
       "10089         1837669                        Shopee < CPT\n",
       "4807          2650112                        Shopee < CPT\n",
       "8816          2666411                        Shopee < CPT\n",
       "19134         2794532                        Shopee < CPT\n",
       "...               ...                                 ...\n",
       "16185      9997519744                        Shopee > CPT\n",
       "18895      9997666673                        Shopee > CPT\n",
       "4476       9998345075                        Shopee > CPT\n",
       "17944      9998445880                        Shopee > CPT\n",
       "13294      9998941910                        Shopee > CPT\n",
       "\n",
       "[20999 rows x 2 columns]"
      ]
     },
     "execution_count": 6,
     "metadata": {},
     "output_type": "execute_result"
    }
   ],
   "source": [
    "priority_map = {\n",
    "    'Shopee < CPT': 0,\n",
    "    'Shopee = CPT': 1,\n",
    "    'Shopee > CPT': 2\n",
    "}\n",
    "\n",
    "df['priority'] = df['shopee_model_competitiveness_status'].map(priority_map).fillna(3)\n",
    "df_sorted = df.sort_values(by=['priority', 'shopee_item_id'])\n",
    "item_priority = df_sorted.drop_duplicates(subset='shopee_item_id', keep='first')\n",
    "\n",
    "result = item_priority[['shopee_item_id', 'shopee_model_competitiveness_status']]\n",
    "result"
   ]
  },
  {
   "cell_type": "markdown",
   "id": "71df7c90-654c-482b-a29b-a75119726e4c",
   "metadata": {},
   "source": [
    "Question 3"
   ]
  },
  {
   "cell_type": "code",
   "execution_count": 7,
   "id": "d2dd50d0-d7cb-4d0b-bdd1-e6d0a61f43db",
   "metadata": {
    "tags": []
   },
   "outputs": [
    {
     "data": {
      "text/html": [
       "<div>\n",
       "<style scoped>\n",
       "    .dataframe tbody tr th:only-of-type {\n",
       "        vertical-align: middle;\n",
       "    }\n",
       "\n",
       "    .dataframe tbody tr th {\n",
       "        vertical-align: top;\n",
       "    }\n",
       "\n",
       "    .dataframe thead th {\n",
       "        text-align: right;\n",
       "    }\n",
       "</style>\n",
       "<table border=\"1\" class=\"dataframe\">\n",
       "  <thead>\n",
       "    <tr style=\"text-align: right;\">\n",
       "      <th></th>\n",
       "      <th>grass_region</th>\n",
       "      <th>total_items_in_top_30_percent_models</th>\n",
       "    </tr>\n",
       "  </thead>\n",
       "  <tbody>\n",
       "    <tr>\n",
       "      <th>0</th>\n",
       "      <td>ID</td>\n",
       "      <td>2528</td>\n",
       "    </tr>\n",
       "    <tr>\n",
       "      <th>4</th>\n",
       "      <td>TH</td>\n",
       "      <td>1241</td>\n",
       "    </tr>\n",
       "    <tr>\n",
       "      <th>3</th>\n",
       "      <td>SG</td>\n",
       "      <td>658</td>\n",
       "    </tr>\n",
       "    <tr>\n",
       "      <th>1</th>\n",
       "      <td>MY</td>\n",
       "      <td>635</td>\n",
       "    </tr>\n",
       "    <tr>\n",
       "      <th>5</th>\n",
       "      <td>VN</td>\n",
       "      <td>629</td>\n",
       "    </tr>\n",
       "    <tr>\n",
       "      <th>2</th>\n",
       "      <td>PH</td>\n",
       "      <td>607</td>\n",
       "    </tr>\n",
       "  </tbody>\n",
       "</table>\n",
       "</div>"
      ],
      "text/plain": [
       "  grass_region  total_items_in_top_30_percent_models\n",
       "0           ID                                  2528\n",
       "4           TH                                  1241\n",
       "3           SG                                   658\n",
       "1           MY                                   635\n",
       "5           VN                                   629\n",
       "2           PH                                   607"
      ]
     },
     "execution_count": 7,
     "metadata": {},
     "output_type": "execute_result"
    }
   ],
   "source": [
    "def top_30_percent_items_count(region_df):\n",
    "    top_n = int(len(region_df) * 0.3)\n",
    "    top_n = max(top_n, 1)\n",
    "    top_models = region_df.head(top_n)\n",
    "    return len(top_models['shopee_item_id'])\n",
    "\n",
    "top_items_by_region = pricing_df.groupby('grass_region').apply(top_30_percent_items_count).reset_index()\n",
    "top_items_by_region.columns = ['grass_region', 'total_items_in_top_30_percent_models']\n",
    "top_items_by_region = top_items_by_region.sort_values('total_items_in_top_30_percent_models', ascending=False)\n",
    "\n",
    "top_items_by_region"
   ]
  }
 ],
 "metadata": {
  "kernelspec": {
   "display_name": "Python 3 (ipykernel)",
   "language": "python",
   "name": "python3"
  },
  "language_info": {
   "codemirror_mode": {
    "name": "ipython",
    "version": 3
   },
   "file_extension": ".py",
   "mimetype": "text/x-python",
   "name": "python",
   "nbconvert_exporter": "python",
   "pygments_lexer": "ipython3",
   "version": "3.11.4"
  }
 },
 "nbformat": 4,
 "nbformat_minor": 5
}
